{
 "cells": [
  {
   "cell_type": "code",
   "execution_count": 40,
   "metadata": {},
   "outputs": [],
   "source": [
    "import pandas as pd\n",
    "nd = \"nyc_10_15\"\n",
    "# nd = \"nyc_5_14\"\n",
    "# nd = \"star_1_5\"\n",
    "# nd = \"abeline_5_11\"\n",
    "# nd = \"fat_tree_5_10\"\n",
    "\n",
    "f1 = f\"/home/manoj/sdn/onos-apps/network_data/test/{nd}/gr_wt.csv\"\n",
    "f2 = f\"/home/manoj/sdn/onos-apps/network_data/test/{nd}/dijk.csv\""
   ]
  },
  {
   "cell_type": "code",
   "execution_count": 41,
   "metadata": {},
   "outputs": [
    {
     "data": {
      "text/html": [
       "<div>\n",
       "<style scoped>\n",
       "    .dataframe tbody tr th:only-of-type {\n",
       "        vertical-align: middle;\n",
       "    }\n",
       "\n",
       "    .dataframe tbody tr th {\n",
       "        vertical-align: top;\n",
       "    }\n",
       "\n",
       "    .dataframe thead th {\n",
       "        text-align: right;\n",
       "    }\n",
       "</style>\n",
       "<table border=\"1\" class=\"dataframe\">\n",
       "  <thead>\n",
       "    <tr style=\"text-align: right;\">\n",
       "      <th></th>\n",
       "      <th>Sno</th>\n",
       "      <th>id</th>\n",
       "      <th>delay</th>\n",
       "      <th>jitter</th>\n",
       "      <th>bandwidth</th>\n",
       "    </tr>\n",
       "  </thead>\n",
       "  <tbody>\n",
       "    <tr>\n",
       "      <th>0</th>\n",
       "      <td>1</td>\n",
       "      <td>0</td>\n",
       "      <td>205.9</td>\n",
       "      <td>61.28</td>\n",
       "      <td>1214.0</td>\n",
       "    </tr>\n",
       "    <tr>\n",
       "      <th>1</th>\n",
       "      <td>2</td>\n",
       "      <td>0</td>\n",
       "      <td>576.2</td>\n",
       "      <td>69.40</td>\n",
       "      <td>1381.5</td>\n",
       "    </tr>\n",
       "    <tr>\n",
       "      <th>2</th>\n",
       "      <td>130</td>\n",
       "      <td>0</td>\n",
       "      <td>680.5</td>\n",
       "      <td>45.60</td>\n",
       "      <td>1836.0</td>\n",
       "    </tr>\n",
       "    <tr>\n",
       "      <th>3</th>\n",
       "      <td>3</td>\n",
       "      <td>0</td>\n",
       "      <td>479.1</td>\n",
       "      <td>57.50</td>\n",
       "      <td>1186.0</td>\n",
       "    </tr>\n",
       "    <tr>\n",
       "      <th>4</th>\n",
       "      <td>4</td>\n",
       "      <td>0</td>\n",
       "      <td>831.5</td>\n",
       "      <td>37.30</td>\n",
       "      <td>1659.0</td>\n",
       "    </tr>\n",
       "  </tbody>\n",
       "</table>\n",
       "</div>"
      ],
      "text/plain": [
       "   Sno  id  delay  jitter  bandwidth\n",
       "0    1   0  205.9   61.28     1214.0\n",
       "1    2   0  576.2   69.40     1381.5\n",
       "2  130   0  680.5   45.60     1836.0\n",
       "3    3   0  479.1   57.50     1186.0\n",
       "4    4   0  831.5   37.30     1659.0"
      ]
     },
     "execution_count": 41,
     "metadata": {},
     "output_type": "execute_result"
    }
   ],
   "source": [
    "m1 = pd.read_csv(f1)\n",
    "m2 = pd.read_csv(f2)\n",
    "m1.head()"
   ]
  },
  {
   "cell_type": "code",
   "execution_count": 42,
   "metadata": {},
   "outputs": [
    {
     "name": "stdout",
     "output_type": "stream",
     "text": [
      "Delay :  3693.9111603448273\n",
      "Jitter :  1038.9131534482758\n",
      "Bandwidth :  1371313.9137931035\n",
      "Delay :  3535.4830913793107\n",
      "Jitter :  2498.712052586207\n",
      "Bandwidth :  1026115.8793103448\n"
     ]
    }
   ],
   "source": [
    "x = 55\n",
    "print( \"Delay : \" , m1[ m1[\"id\"] == x][\"delay\"].mean() )\n",
    "print( \"Jitter : \" , m1[ m1[\"id\"] == x][\"jitter\"].mean() )\n",
    "print( \"Bandwidth : \" , m1[ m1[\"id\"] == x][\"bandwidth\"].mean() )\n",
    "\n",
    "print( \"Delay : \" , m2[ m2[\"id\"] == x][\"delay\"].mean() )\n",
    "print( \"Jitter : \" , m2[ m2[\"id\"] == x][\"jitter\"].mean() )\n",
    "print( \"Bandwidth : \" , m2[ m2[\"id\"] == x][\"bandwidth\"].mean() )"
   ]
  },
  {
   "cell_type": "code",
   "execution_count": 43,
   "metadata": {},
   "outputs": [
    {
     "name": "stdout",
     "output_type": "stream",
     "text": [
      "Delay :  2718.876452528736\n",
      "Jitter :  3064.9996789117645\n",
      "Bandwidth :  2859357.27484787\n",
      "Delay :  3795.57756939148\n",
      "Jitter :  4017.1999961277893\n",
      "Bandwidth :  2394559.7709601084\n"
     ]
    }
   ],
   "source": [
    "print( \"Delay : \" , m1[ m1[\"id\"] > 10][\"delay\"].mean() )\n",
    "print( \"Jitter : \" , m1[ m1[\"id\"] > 10][\"jitter\"].mean() )\n",
    "print( \"Bandwidth : \" , m1[ m1[\"id\"] > 10][\"bandwidth\"].mean() )\n",
    "\n",
    "print( \"Delay : \" , m2[ m2[\"id\"] > 10 ][\"delay\"].mean() )\n",
    "print( \"Jitter : \" , m2[ m2[\"id\"] > 10 ][\"jitter\"].mean() )\n",
    "print( \"Bandwidth : \" , m2[ m2[\"id\"] > 10][\"bandwidth\"].mean() )"
   ]
  },
  {
   "cell_type": "code",
   "execution_count": 44,
   "metadata": {},
   "outputs": [
    {
     "name": "stdout",
     "output_type": "stream",
     "text": [
      "Delay :  1498.1166340157256\n",
      "Jitter :  2493.45429600337\n",
      "Bandwidth :  2541196.4738837406\n",
      "Delay :  1792.4421034125637\n",
      "Jitter :  3286.876370648274\n",
      "Bandwidth :  2066265.1798245613\n"
     ]
    }
   ],
   "source": [
    "print( \"Delay : \" , m1[ m1[\"delay\"] != 100000 ][\"delay\"].mean() )\n",
    "print( \"Jitter : \" , m1[ m1[\"delay\"] != 100000 ][\"jitter\"].mean() )\n",
    "print( \"Bandwidth : \" , m1[ m1[\"delay\"] != 100000 ][\"bandwidth\"].mean() )\n",
    "\n",
    "print( \"Delay : \" , m2[ m2[\"delay\"] != 100000 ][\"delay\"].mean() )\n",
    "print( \"Jitter : \" , m2[ m2[\"delay\"] != 100000 ][\"jitter\"].mean() )\n",
    "print( \"Bandwidth : \" , m2[ m2[\"delay\"] != 100000][\"bandwidth\"].mean() )"
   ]
  },
  {
   "cell_type": "code",
   "execution_count": 45,
   "metadata": {},
   "outputs": [
    {
     "data": {
      "text/plain": [
       "(35, 62)"
      ]
     },
     "execution_count": 45,
     "metadata": {},
     "output_type": "execute_result"
    }
   ],
   "source": [
    "len(m1[m1[\"delay\"] == 100000]) , len(m2[m2[\"delay\"] == 100000])"
   ]
  },
  {
   "cell_type": "code",
   "execution_count": null,
   "metadata": {},
   "outputs": [],
   "source": []
  }
 ],
 "metadata": {
  "kernelspec": {
   "display_name": "Python 3.10.6 64-bit",
   "language": "python",
   "name": "python3"
  },
  "language_info": {
   "codemirror_mode": {
    "name": "ipython",
    "version": 3
   },
   "file_extension": ".py",
   "mimetype": "text/x-python",
   "name": "python",
   "nbconvert_exporter": "python",
   "pygments_lexer": "ipython3",
   "version": "3.10.6"
  },
  "orig_nbformat": 4,
  "vscode": {
   "interpreter": {
    "hash": "916dbcbb3f70747c44a77c7bcd40155683ae19c65e1c03b4aa3499c5328201f1"
   }
  }
 },
 "nbformat": 4,
 "nbformat_minor": 2
}
