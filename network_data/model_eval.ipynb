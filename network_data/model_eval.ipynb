{
 "cells": [
  {
   "cell_type": "code",
   "execution_count": 49,
   "metadata": {},
   "outputs": [],
   "source": [
    "import pandas as pd\n",
    "# nd = \"nyc_10_15\"\n",
    "nd = \"nyc_5_14\"\n",
    "# nd = \"star_1_5\"\n",
    "# nd = \"abeline_5_11\"\n",
    "nd = \"fat_tree_5_10\"\n",
    "f1 = f\"/home/manoj/sdn/onos-apps/network_data/test/{nd}/gr_wt.csv\"\n",
    "f2 = f\"/home/manoj/sdn/onos-apps/network_data/test/{nd}/dijk.csv\""
   ]
  },
  {
   "cell_type": "code",
   "execution_count": 50,
   "metadata": {},
   "outputs": [
    {
     "data": {
      "text/html": [
       "<div>\n",
       "<style scoped>\n",
       "    .dataframe tbody tr th:only-of-type {\n",
       "        vertical-align: middle;\n",
       "    }\n",
       "\n",
       "    .dataframe tbody tr th {\n",
       "        vertical-align: top;\n",
       "    }\n",
       "\n",
       "    .dataframe thead th {\n",
       "        text-align: right;\n",
       "    }\n",
       "</style>\n",
       "<table border=\"1\" class=\"dataframe\">\n",
       "  <thead>\n",
       "    <tr style=\"text-align: right;\">\n",
       "      <th></th>\n",
       "      <th>Sno</th>\n",
       "      <th>id</th>\n",
       "      <th>delay</th>\n",
       "      <th>jitter</th>\n",
       "      <th>bandwidth</th>\n",
       "    </tr>\n",
       "  </thead>\n",
       "  <tbody>\n",
       "    <tr>\n",
       "      <th>0</th>\n",
       "      <td>1</td>\n",
       "      <td>0</td>\n",
       "      <td>231.8</td>\n",
       "      <td>178.0</td>\n",
       "      <td>752.5</td>\n",
       "    </tr>\n",
       "    <tr>\n",
       "      <th>1</th>\n",
       "      <td>2</td>\n",
       "      <td>0</td>\n",
       "      <td>366.6</td>\n",
       "      <td>82.6</td>\n",
       "      <td>585.0</td>\n",
       "    </tr>\n",
       "    <tr>\n",
       "      <th>2</th>\n",
       "      <td>3</td>\n",
       "      <td>0</td>\n",
       "      <td>268.6</td>\n",
       "      <td>74.6</td>\n",
       "      <td>518.0</td>\n",
       "    </tr>\n",
       "    <tr>\n",
       "      <th>3</th>\n",
       "      <td>68</td>\n",
       "      <td>0</td>\n",
       "      <td>697.5</td>\n",
       "      <td>67.3</td>\n",
       "      <td>685.5</td>\n",
       "    </tr>\n",
       "    <tr>\n",
       "      <th>4</th>\n",
       "      <td>4</td>\n",
       "      <td>0</td>\n",
       "      <td>242.0</td>\n",
       "      <td>21.2</td>\n",
       "      <td>528.5</td>\n",
       "    </tr>\n",
       "  </tbody>\n",
       "</table>\n",
       "</div>"
      ],
      "text/plain": [
       "   Sno  id  delay  jitter  bandwidth\n",
       "0    1   0  231.8   178.0      752.5\n",
       "1    2   0  366.6    82.6      585.0\n",
       "2    3   0  268.6    74.6      518.0\n",
       "3   68   0  697.5    67.3      685.5\n",
       "4    4   0  242.0    21.2      528.5"
      ]
     },
     "execution_count": 50,
     "metadata": {},
     "output_type": "execute_result"
    }
   ],
   "source": [
    "m1 = pd.read_csv(f1)\n",
    "m2 = pd.read_csv(f2)\n",
    "m1.head()"
   ]
  },
  {
   "cell_type": "code",
   "execution_count": 51,
   "metadata": {},
   "outputs": [
    {
     "name": "stdout",
     "output_type": "stream",
     "text": [
      "Delay :  786.0812500000001\n",
      "Jitter :  763.6679375\n",
      "Bandwidth :  661276.25\n",
      "Delay :  25263.54375\n",
      "Jitter :  2581.484375\n",
      "Bandwidth :  677229.59375\n"
     ]
    }
   ],
   "source": [
    "x = 55\n",
    "print( \"Delay : \" , m1[ m1[\"id\"] == x][\"delay\"].mean() )\n",
    "print( \"Jitter : \" , m1[ m1[\"id\"] == x][\"jitter\"].mean() )\n",
    "print( \"Bandwidth : \" , m1[ m1[\"id\"] == x][\"bandwidth\"].mean() )\n",
    "\n",
    "print( \"Delay : \" , m2[ m2[\"id\"] == x][\"delay\"].mean() )\n",
    "print( \"Jitter : \" , m2[ m2[\"id\"] == x][\"jitter\"].mean() )\n",
    "print( \"Bandwidth : \" , m2[ m2[\"id\"] == x][\"bandwidth\"].mean() )"
   ]
  },
  {
   "cell_type": "code",
   "execution_count": 52,
   "metadata": {},
   "outputs": [
    {
     "name": "stdout",
     "output_type": "stream",
     "text": [
      "Delay :  2525.27038111875\n",
      "Jitter :  6251.7865305225005\n",
      "Bandwidth :  1595664.3659375\n",
      "Delay :  15735.743338687498\n",
      "Jitter :  4263.91596109375\n",
      "Bandwidth :  1539955.0490625\n"
     ]
    }
   ],
   "source": [
    "print( \"Delay : \" , m1[ m1[\"id\"] > 10][\"delay\"].mean() )\n",
    "print( \"Jitter : \" , m1[ m1[\"id\"] > 10][\"jitter\"].mean() )\n",
    "print( \"Bandwidth : \" , m1[ m1[\"id\"] > 10][\"bandwidth\"].mean() )\n",
    "\n",
    "print( \"Delay : \" , m2[ m2[\"id\"] > 10 ][\"delay\"].mean() )\n",
    "print( \"Jitter : \" , m2[ m2[\"id\"] > 10 ][\"jitter\"].mean() )\n",
    "print( \"Bandwidth : \" , m2[ m2[\"id\"] > 10][\"bandwidth\"].mean() )"
   ]
  },
  {
   "cell_type": "code",
   "execution_count": 53,
   "metadata": {},
   "outputs": [
    {
     "name": "stdout",
     "output_type": "stream",
     "text": [
      "Delay :  1210.6560699161737\n",
      "Jitter :  5032.558268656805\n",
      "Bandwidth :  1279044.6560650887\n",
      "Delay :  832.6227082504389\n",
      "Jitter :  3091.865192363956\n",
      "Bandwidth :  913203.5321825629\n"
     ]
    }
   ],
   "source": [
    "print( \"Delay : \" , m1[ m1[\"delay\"] != 100000 ][\"delay\"].mean() )\n",
    "print( \"Jitter : \" , m1[ m1[\"delay\"] != 100000 ][\"jitter\"].mean() )\n",
    "print( \"Bandwidth : \" , m1[ m1[\"delay\"] != 100000 ][\"bandwidth\"].mean() )\n",
    "\n",
    "print( \"Delay : \" , m2[ m2[\"delay\"] != 100000 ][\"delay\"].mean() )\n",
    "print( \"Jitter : \" , m2[ m2[\"delay\"] != 100000 ][\"jitter\"].mean() )\n",
    "print( \"Bandwidth : \" , m2[ m2[\"delay\"] != 100000][\"bandwidth\"].mean() )"
   ]
  },
  {
   "cell_type": "code",
   "execution_count": 55,
   "metadata": {},
   "outputs": [
    {
     "data": {
      "text/plain": [
       "(84, 243)"
      ]
     },
     "execution_count": 55,
     "metadata": {},
     "output_type": "execute_result"
    }
   ],
   "source": [
    "len(m1[m1[\"delay\"] == 100000]) , len(m2[m2[\"delay\"] == 100000])"
   ]
  },
  {
   "cell_type": "code",
   "execution_count": null,
   "metadata": {},
   "outputs": [],
   "source": []
  }
 ],
 "metadata": {
  "kernelspec": {
   "display_name": "Python 3.10.6 64-bit",
   "language": "python",
   "name": "python3"
  },
  "language_info": {
   "codemirror_mode": {
    "name": "ipython",
    "version": 3
   },
   "file_extension": ".py",
   "mimetype": "text/x-python",
   "name": "python",
   "nbconvert_exporter": "python",
   "pygments_lexer": "ipython3",
   "version": "3.10.6 (main, Nov 14 2022, 16:10:14) [GCC 11.3.0]"
  },
  "orig_nbformat": 4,
  "vscode": {
   "interpreter": {
    "hash": "916dbcbb3f70747c44a77c7bcd40155683ae19c65e1c03b4aa3499c5328201f1"
   }
  }
 },
 "nbformat": 4,
 "nbformat_minor": 2
}
