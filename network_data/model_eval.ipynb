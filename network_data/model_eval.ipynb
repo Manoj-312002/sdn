{
 "cells": [
  {
   "cell_type": "code",
   "execution_count": 1,
   "metadata": {},
   "outputs": [],
   "source": [
    "import pandas as pd\n",
    "# nd = \"nyc_10_15\"\n",
    "# nd = \"nyc_5_14\"\n",
    "nd = \"star_1_5\"\n",
    "f1 = f\"/home/manoj/sdn/onos-apps/network_data/test/{nd}/gr_wt.csv\"\n",
    "f2 = f\"/home/manoj/sdn/onos-apps/network_data/test/{nd}/dijk.csv\""
   ]
  },
  {
   "cell_type": "code",
   "execution_count": 2,
   "metadata": {},
   "outputs": [
    {
     "data": {
      "text/html": [
       "<div>\n",
       "<style scoped>\n",
       "    .dataframe tbody tr th:only-of-type {\n",
       "        vertical-align: middle;\n",
       "    }\n",
       "\n",
       "    .dataframe tbody tr th {\n",
       "        vertical-align: top;\n",
       "    }\n",
       "\n",
       "    .dataframe thead th {\n",
       "        text-align: right;\n",
       "    }\n",
       "</style>\n",
       "<table border=\"1\" class=\"dataframe\">\n",
       "  <thead>\n",
       "    <tr style=\"text-align: right;\">\n",
       "      <th></th>\n",
       "      <th>Sno</th>\n",
       "      <th>id</th>\n",
       "      <th>delay</th>\n",
       "      <th>jitter</th>\n",
       "      <th>bandwidth</th>\n",
       "    </tr>\n",
       "  </thead>\n",
       "  <tbody>\n",
       "    <tr>\n",
       "      <th>0</th>\n",
       "      <td>16</td>\n",
       "      <td>0</td>\n",
       "      <td>219.4</td>\n",
       "      <td>20.20</td>\n",
       "      <td>494.0</td>\n",
       "    </tr>\n",
       "    <tr>\n",
       "      <th>1</th>\n",
       "      <td>1</td>\n",
       "      <td>0</td>\n",
       "      <td>43.2</td>\n",
       "      <td>14.08</td>\n",
       "      <td>625.5</td>\n",
       "    </tr>\n",
       "    <tr>\n",
       "      <th>2</th>\n",
       "      <td>2</td>\n",
       "      <td>0</td>\n",
       "      <td>446.2</td>\n",
       "      <td>39.60</td>\n",
       "      <td>606.5</td>\n",
       "    </tr>\n",
       "    <tr>\n",
       "      <th>3</th>\n",
       "      <td>19</td>\n",
       "      <td>0</td>\n",
       "      <td>163.7</td>\n",
       "      <td>25.64</td>\n",
       "      <td>466.0</td>\n",
       "    </tr>\n",
       "    <tr>\n",
       "      <th>4</th>\n",
       "      <td>5</td>\n",
       "      <td>0</td>\n",
       "      <td>238.9</td>\n",
       "      <td>102.10</td>\n",
       "      <td>625.5</td>\n",
       "    </tr>\n",
       "  </tbody>\n",
       "</table>\n",
       "</div>"
      ],
      "text/plain": [
       "   Sno  id  delay  jitter  bandwidth\n",
       "0   16   0  219.4   20.20      494.0\n",
       "1    1   0   43.2   14.08      625.5\n",
       "2    2   0  446.2   39.60      606.5\n",
       "3   19   0  163.7   25.64      466.0\n",
       "4    5   0  238.9  102.10      625.5"
      ]
     },
     "execution_count": 2,
     "metadata": {},
     "output_type": "execute_result"
    }
   ],
   "source": [
    "m1 = pd.read_csv(f1)\n",
    "m2 = pd.read_csv(f2)\n",
    "m1.head()"
   ]
  },
  {
   "cell_type": "code",
   "execution_count": 3,
   "metadata": {},
   "outputs": [
    {
     "name": "stdout",
     "output_type": "stream",
     "text": [
      "Delay :  714.8\n",
      "Jitter :  1180.8033\n",
      "Bandwidth :  2611703.4\n",
      "Delay :  10400.66\n",
      "Jitter :  1110.02\n",
      "Bandwidth :  2891522.9\n"
     ]
    }
   ],
   "source": [
    "x = 30\n",
    "print( \"Delay : \" , m1[ m1[\"id\"] == x][\"delay\"].mean() )\n",
    "print( \"Jitter : \" , m1[ m1[\"id\"] == x][\"jitter\"].mean() )\n",
    "print( \"Bandwidth : \" , m1[ m1[\"id\"] == x][\"bandwidth\"].mean() )\n",
    "\n",
    "print( \"Delay : \" , m2[ m2[\"id\"] == x][\"delay\"].mean() )\n",
    "print( \"Jitter : \" , m2[ m2[\"id\"] == x][\"jitter\"].mean() )\n",
    "print( \"Bandwidth : \" , m2[ m2[\"id\"] == x][\"bandwidth\"].mean() )"
   ]
  },
  {
   "cell_type": "code",
   "execution_count": 4,
   "metadata": {},
   "outputs": [
    {
     "name": "stdout",
     "output_type": "stream",
     "text": [
      "Delay :  1416.4496543076923\n",
      "Jitter :  552.8750789615385\n",
      "Bandwidth :  2300698.8865384613\n",
      "Delay :  1432.455608264151\n",
      "Jitter :  755.4593676603774\n",
      "Bandwidth :  2228013.5811320753\n"
     ]
    }
   ],
   "source": [
    "print( \"Delay : \" , m1[ m1[\"id\"] > 10][\"delay\"].mean() )\n",
    "print( \"Jitter : \" , m1[ m1[\"id\"] > 10][\"jitter\"].mean() )\n",
    "print( \"Bandwidth : \" , m1[ m1[\"id\"] > 10][\"bandwidth\"].mean() )\n",
    "\n",
    "print( \"Delay : \" , m2[ m2[\"id\"] > 10][\"delay\"].mean() )\n",
    "print( \"Jitter : \" , m2[ m2[\"id\"] > 10][\"jitter\"].mean() )\n",
    "print( \"Bandwidth : \" , m2[ m2[\"id\"] > 10][\"bandwidth\"].mean() )"
   ]
  },
  {
   "cell_type": "code",
   "execution_count": null,
   "metadata": {},
   "outputs": [],
   "source": []
  }
 ],
 "metadata": {
  "kernelspec": {
   "display_name": "Python 3.10.6 64-bit",
   "language": "python",
   "name": "python3"
  },
  "language_info": {
   "codemirror_mode": {
    "name": "ipython",
    "version": 3
   },
   "file_extension": ".py",
   "mimetype": "text/x-python",
   "name": "python",
   "nbconvert_exporter": "python",
   "pygments_lexer": "ipython3",
   "version": "3.10.6"
  },
  "orig_nbformat": 4,
  "vscode": {
   "interpreter": {
    "hash": "916dbcbb3f70747c44a77c7bcd40155683ae19c65e1c03b4aa3499c5328201f1"
   }
  }
 },
 "nbformat": 4,
 "nbformat_minor": 2
}
