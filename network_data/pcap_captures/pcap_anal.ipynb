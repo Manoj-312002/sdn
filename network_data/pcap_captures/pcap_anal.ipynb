{
 "cells": [
  {
   "cell_type": "code",
   "execution_count": 1,
   "metadata": {},
   "outputs": [
    {
     "name": "stdout",
     "output_type": "stream",
     "text": [
      "b'\\x00\\x00\\x00\\x00\\x00\\x00\\x00\\x00' CookedLinux / IP / UDP 10.0.0.0:60808 > 10.0.0.5:8000 / Raw\n"
     ]
    }
   ],
   "source": [
    "import sys\n",
    "import re\n",
    "from scapy.all import *\n",
    "from memory_profiler import profile\n",
    "\n",
    "\n",
    "for packet in PcapReader(\"star_1_5_100.pcap\"):\n",
    "    try:\n",
    "        if packet[IP].src[:2] == \"10\":\n",
    "            print(packet.src , packet)\n",
    "            break\n",
    "    except:\n",
    "        pass\n",
    "    "
   ]
  },
  {
   "cell_type": "markdown",
   "metadata": {},
   "source": []
  }
 ],
 "metadata": {
  "kernelspec": {
   "display_name": "Python 3",
   "language": "python",
   "name": "python3"
  },
  "language_info": {
   "codemirror_mode": {
    "name": "ipython",
    "version": 3
   },
   "file_extension": ".py",
   "mimetype": "text/x-python",
   "name": "python",
   "nbconvert_exporter": "python",
   "pygments_lexer": "ipython3",
   "version": "3.10.6 (main, Nov 14 2022, 16:10:14) [GCC 11.3.0]"
  },
  "orig_nbformat": 4,
  "vscode": {
   "interpreter": {
    "hash": "916dbcbb3f70747c44a77c7bcd40155683ae19c65e1c03b4aa3499c5328201f1"
   }
  }
 },
 "nbformat": 4,
 "nbformat_minor": 2
}
