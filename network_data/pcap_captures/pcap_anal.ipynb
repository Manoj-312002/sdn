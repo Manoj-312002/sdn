{
 "cells": [
  {
   "cell_type": "code",
   "execution_count": 16,
   "metadata": {},
   "outputs": [
    {
     "name": "stdout",
     "output_type": "stream",
     "text": [
      "b'\\x00\\x00\\x00\\x00\\x00\\x00\\x00\\x00' <bound method Packet.fragment of <CookedLinux  pkttype=sent-by-us lladdrtype=0x1 lladdrlen=6 src='' proto=IPv4 |<IP  version=4 ihl=5 tos=0x0 len=46 id=0 flags= frag=0 ttl=64 proto=udp chksum=0x66bb src=10.0.0.0 dst=10.0.0.5 |<UDP  sport=60808 dport=8000 len=26 chksum=0x3340 |<Raw  load='10.0.0.4,10.0.0.3,' |>>>>>\n"
     ]
    }
   ],
   "source": [
    "import sys\n",
    "import re\n",
    "from scapy.all import *\n",
    "from memory_profiler import profile\n",
    "\n",
    "\n",
    "for packet in PcapReader(\"star_1_5_100.pcap\"):\n",
    "    try:\n",
    "        if packet[IP].src[:2] == \"10\":\n",
    "            print(packet.src , packet)\n",
    "            break\n",
    "    except:\n",
    "        pass\n",
    "    "
   ]
  },
  {
   "cell_type": "code",
   "execution_count": 7,
   "metadata": {},
   "outputs": [
    {
     "ename": "TypeError",
     "evalue": "Packet.getlayer() missing 2 required positional arguments: 'self' and 'cls'",
     "output_type": "error",
     "traceback": [
      "\u001b[0;31m---------------------------------------------------------------------------\u001b[0m",
      "\u001b[0;31mTypeError\u001b[0m                                 Traceback (most recent call last)",
      "Cell \u001b[0;32mIn [7], line 1\u001b[0m\n\u001b[0;32m----> 1\u001b[0m scapy\u001b[39m.\u001b[39;49mlayers\u001b[39m.\u001b[39;49ml2\u001b[39m.\u001b[39;49mEther\u001b[39m.\u001b[39;49mgetlayer()\n",
      "\u001b[0;31mTypeError\u001b[0m: Packet.getlayer() missing 2 required positional arguments: 'self' and 'cls'"
     ]
    }
   ],
   "source": []
  },
  {
   "cell_type": "markdown",
   "metadata": {},
   "source": []
  }
 ],
 "metadata": {
  "kernelspec": {
   "display_name": "Python 3",
   "language": "python",
   "name": "python3"
  },
  "language_info": {
   "codemirror_mode": {
    "name": "ipython",
    "version": 3
   },
   "file_extension": ".py",
   "mimetype": "text/x-python",
   "name": "python",
   "nbconvert_exporter": "python",
   "pygments_lexer": "ipython3",
   "version": "3.10.6 (main, Nov 14 2022, 16:10:14) [GCC 11.3.0]"
  },
  "orig_nbformat": 4,
  "vscode": {
   "interpreter": {
    "hash": "916dbcbb3f70747c44a77c7bcd40155683ae19c65e1c03b4aa3499c5328201f1"
   }
  }
 },
 "nbformat": 4,
 "nbformat_minor": 2
}
