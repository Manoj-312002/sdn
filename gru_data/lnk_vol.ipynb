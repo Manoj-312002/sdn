{
 "cells": [
  {
   "cell_type": "code",
   "execution_count": 1,
   "metadata": {},
   "outputs": [],
   "source": [
    "import pandas as pd\n",
    "import numpy as np\n",
    "import json\n",
    "import seaborn as sns\n",
    "import matplotlib.pyplot as plt\n",
    "\n",
    "sns.set(rc={'figure.figsize':(20,8)})\n",
    "sns.set_style(\"dark\")\n",
    "\n",
    "lnks = 14\n",
    "nd = \"nyc_10_15/\""
   ]
  },
  {
   "cell_type": "code",
   "execution_count": 2,
   "metadata": {},
   "outputs": [],
   "source": [
    "def map_hex(s):\n",
    "    if s.isdigit():\n",
    "        return s\n",
    "    else:\n",
    "        return str(ord(s) - ord('a') + 10)"
   ]
  },
  {
   "cell_type": "code",
   "execution_count": 5,
   "metadata": {},
   "outputs": [],
   "source": [
    "df = {}\n",
    "def run(vl):\n",
    "    ps = json.load(open(f\"/home/manoj/sdn/onos-apps/gru_data/test/{nd}{vl}/portstats.txt\"))\n",
    "    lks = json.load(open(f\"/home/manoj/sdn/onos-apps/gru_data/test/{nd}{vl}/links.txt\"))\n",
    "\n",
    "    ps_dt = {}\n",
    "    for i in ps:\n",
    "        dv = i[\"deviceId\"]\n",
    "        ps_dt[dv] = {}\n",
    "        for j in i[\"portStats\"]:\n",
    "            ps_dt[dv][j['port']] = j['bytesTx'] + j['bytesRx']\n",
    "\n",
    "    dt = {}\n",
    "    # works with number of nodes less than 16\n",
    "    for i in lks:\n",
    "        s = map_hex(i[\"src\"][\"device\"][-1])\n",
    "        d = map_hex(i[\"dst\"][\"device\"][-1])\n",
    "        dt[str(s)+\"-\"+str(d)] = ps_dt[i[\"src\"][\"device\"]][i[\"src\"][\"port\"]]\n",
    "    \n",
    "    keys = list(dt.keys())\n",
    "    keys.sort()\n",
    "    df[\"links\"] = keys\n",
    "    vals = [float(dt[k]) for k in keys]\n",
    "    df[vl] = vals"
   ]
  },
  {
   "cell_type": "code",
   "execution_count": 6,
   "metadata": {},
   "outputs": [],
   "source": [
    "run(\"gru\")\n",
    "run(\"dij\")"
   ]
  },
  {
   "cell_type": "code",
   "execution_count": 7,
   "metadata": {},
   "outputs": [
    {
     "data": {
      "text/plain": [
       "(58, 58)"
      ]
     },
     "execution_count": 7,
     "metadata": {},
     "output_type": "execute_result"
    }
   ],
   "source": [
    "len(df[\"gru\"]) ,len(df[\"dij\"])"
   ]
  },
  {
   "cell_type": "code",
   "execution_count": 9,
   "metadata": {},
   "outputs": [
    {
     "data": {
      "text/html": [
       "<div>\n",
       "<style scoped>\n",
       "    .dataframe tbody tr th:only-of-type {\n",
       "        vertical-align: middle;\n",
       "    }\n",
       "\n",
       "    .dataframe tbody tr th {\n",
       "        vertical-align: top;\n",
       "    }\n",
       "\n",
       "    .dataframe thead th {\n",
       "        text-align: right;\n",
       "    }\n",
       "</style>\n",
       "<table border=\"1\" class=\"dataframe\">\n",
       "  <thead>\n",
       "    <tr style=\"text-align: right;\">\n",
       "      <th></th>\n",
       "      <th>links</th>\n",
       "      <th>gru</th>\n",
       "      <th>dij</th>\n",
       "    </tr>\n",
       "  </thead>\n",
       "  <tbody>\n",
       "    <tr>\n",
       "      <th>0</th>\n",
       "      <td>1-11</td>\n",
       "      <td>550882208.0</td>\n",
       "      <td>444337704.0</td>\n",
       "    </tr>\n",
       "    <tr>\n",
       "      <th>1</th>\n",
       "      <td>1-3</td>\n",
       "      <td>237705448.0</td>\n",
       "      <td>230918217.0</td>\n",
       "    </tr>\n",
       "    <tr>\n",
       "      <th>2</th>\n",
       "      <td>1-4</td>\n",
       "      <td>776364251.0</td>\n",
       "      <td>755205308.0</td>\n",
       "    </tr>\n",
       "    <tr>\n",
       "      <th>3</th>\n",
       "      <td>1-5</td>\n",
       "      <td>183673.0</td>\n",
       "      <td>182617.0</td>\n",
       "    </tr>\n",
       "    <tr>\n",
       "      <th>4</th>\n",
       "      <td>1-9</td>\n",
       "      <td>766803197.0</td>\n",
       "      <td>675791467.0</td>\n",
       "    </tr>\n",
       "  </tbody>\n",
       "</table>\n",
       "</div>"
      ],
      "text/plain": [
       "  links          gru          dij\n",
       "0  1-11  550882208.0  444337704.0\n",
       "1   1-3  237705448.0  230918217.0\n",
       "2   1-4  776364251.0  755205308.0\n",
       "3   1-5     183673.0     182617.0\n",
       "4   1-9  766803197.0  675791467.0"
      ]
     },
     "execution_count": 9,
     "metadata": {},
     "output_type": "execute_result"
    }
   ],
   "source": [
    "df= pd.DataFrame(df)\n",
    "df.to_csv(f\"/home/manoj/sdn/onos-apps/gru_data/test/{nd}/weight_anal/link_vol.csv\" , index=False)\n",
    "df.head()"
   ]
  },
  {
   "cell_type": "code",
   "execution_count": 11,
   "metadata": {},
   "outputs": [],
   "source": [
    "df = pd.read_csv(f\"/home/manoj/sdn/onos-apps/gru_data/test/{nd}/weight_anal/link_vol.csv\" )"
   ]
  },
  {
   "cell_type": "code",
   "execution_count": 12,
   "metadata": {},
   "outputs": [
    {
     "data": {
      "text/html": [
       "<div>\n",
       "<style scoped>\n",
       "    .dataframe tbody tr th:only-of-type {\n",
       "        vertical-align: middle;\n",
       "    }\n",
       "\n",
       "    .dataframe tbody tr th {\n",
       "        vertical-align: top;\n",
       "    }\n",
       "\n",
       "    .dataframe thead th {\n",
       "        text-align: right;\n",
       "    }\n",
       "</style>\n",
       "<table border=\"1\" class=\"dataframe\">\n",
       "  <thead>\n",
       "    <tr style=\"text-align: right;\">\n",
       "      <th></th>\n",
       "      <th>links</th>\n",
       "      <th>method</th>\n",
       "      <th>value</th>\n",
       "    </tr>\n",
       "  </thead>\n",
       "  <tbody>\n",
       "    <tr>\n",
       "      <th>0</th>\n",
       "      <td>1-11</td>\n",
       "      <td>gru</td>\n",
       "      <td>550882208.0</td>\n",
       "    </tr>\n",
       "    <tr>\n",
       "      <th>58</th>\n",
       "      <td>1-11</td>\n",
       "      <td>dij</td>\n",
       "      <td>444337704.0</td>\n",
       "    </tr>\n",
       "    <tr>\n",
       "      <th>1</th>\n",
       "      <td>1-3</td>\n",
       "      <td>gru</td>\n",
       "      <td>237705448.0</td>\n",
       "    </tr>\n",
       "    <tr>\n",
       "      <th>59</th>\n",
       "      <td>1-3</td>\n",
       "      <td>dij</td>\n",
       "      <td>230918217.0</td>\n",
       "    </tr>\n",
       "    <tr>\n",
       "      <th>2</th>\n",
       "      <td>1-4</td>\n",
       "      <td>gru</td>\n",
       "      <td>776364251.0</td>\n",
       "    </tr>\n",
       "  </tbody>\n",
       "</table>\n",
       "</div>"
      ],
      "text/plain": [
       "   links method        value\n",
       "0   1-11    gru  550882208.0\n",
       "58  1-11    dij  444337704.0\n",
       "1    1-3    gru  237705448.0\n",
       "59   1-3    dij  230918217.0\n",
       "2    1-4    gru  776364251.0"
      ]
     },
     "execution_count": 12,
     "metadata": {},
     "output_type": "execute_result"
    }
   ],
   "source": [
    "dfm = pd.melt(df, id_vars=\"links\", var_name=\"method\", value_name=\"value\")\n",
    "dfm = dfm.sort_values(\"links\")\n",
    "dfm.head()"
   ]
  },
  {
   "cell_type": "code",
   "execution_count": 16,
   "metadata": {},
   "outputs": [
    {
     "data": {
      "text/plain": [
       "[Text(0.5, 1.0, 'Link Volume graph'), Text(0, 0.5, 'Volume Value')]"
      ]
     },
     "execution_count": 16,
     "metadata": {},
     "output_type": "execute_result"
    },
    {
     "data": {
      "image/png": "[encoded data removed]",
      "text/plain": [
       "<Figure size 1440x576 with 1 Axes>"
      ]
     },
     "metadata": {},
     "output_type": "display_data"
    }
   ],
   "source": [
    "plt.xticks(rotation=45)\n",
    "sns.barplot(data = dfm , x =\"links\" , y =\"value\" , hue=\"method\").set(title=\"Link Volume graph\" , ylabel=\"Volume Value\")"
   ]
  },
  {
   "cell_type": "code",
   "execution_count": null,
   "metadata": {},
   "outputs": [],
   "source": []
  }
 ],
 "metadata": {
  "kernelspec": {
   "display_name": "Python 3",
   "language": "python",
   "name": "python3"
  },
  "language_info": {
   "codemirror_mode": {
    "name": "ipython",
    "version": 3
   },
   "file_extension": ".py",
   "mimetype": "text/x-python",
   "name": "python",
   "nbconvert_exporter": "python",
   "pygments_lexer": "ipython3",
   "version": "3.6.9"
  },
  "orig_nbformat": 4,
  "vscode": {
   "interpreter": {
    "hash": "916dbcbb3f70747c44a77c7bcd40155683ae19c65e1c03b4aa3499c5328201f1"
   }
  }
 },
 "nbformat": 4,
 "nbformat_minor": 2
}
