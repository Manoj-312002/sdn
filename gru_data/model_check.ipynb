{
 "cells": [
  {
   "cell_type": "code",
   "execution_count": 6,
   "metadata": {},
   "outputs": [
    {
     "name": "stderr",
     "output_type": "stream",
     "text": [
      "/home/manoj/.local/lib/python3.10/site-packages/tqdm/auto.py:22: TqdmWarning: IProgress not found. Please update jupyter and ipywidgets. See https://ipywidgets.readthedocs.io/en/stable/user_install.html\n",
      "  from .autonotebook import tqdm as notebook_tqdm\n"
     ]
    }
   ],
   "source": [
    "import onnx\n",
    "import pandas as pd\n",
    "import numpy as np\n",
    "import onnxruntime as rt\n",
    "import torch"
   ]
  },
  {
   "cell_type": "code",
   "execution_count": 10,
   "metadata": {},
   "outputs": [
    {
     "data": {
      "text/plain": [
       "((10, 5, 3), (10, 3))"
      ]
     },
     "execution_count": 10,
     "metadata": {},
     "output_type": "execute_result"
    }
   ],
   "source": [
    "i = 10\n",
    "i += 5\n",
    "\n",
    "\n",
    "df = pd.read_csv(\"/home/manoj/sdn/onos-apps/network_data/models/v1/d_star_10000_1_5_u.csv\")\n",
    "x = []\n",
    "for j in range(5):\n",
    "    x.append(df[df['id'] == i-j].sort_values(by=\"Sno\").to_numpy()[:,2:] / np.array([10000 , 10000 , 10000000 ]) )\n",
    "\n",
    "x = np.array(x)\n",
    "x = np.swapaxes(x,0,1)\n",
    "\n",
    "y = df[df['id'] == i].sort_values(by=\"Sno\").to_numpy()[:,2:] / np.array([10000 , 10000 , 10000000])\n",
    "x.shape , y.shape"
   ]
  },
  {
   "cell_type": "code",
   "execution_count": 11,
   "metadata": {},
   "outputs": [
    {
     "name": "stdout",
     "output_type": "stream",
     "text": [
      "[4.348e-02 1.460e-02 2.580e-05]\n",
      "[1.701e-02 8.012e-03 3.205e-05]\n",
      "[3.090e-02 1.062e-02 2.575e-05]\n",
      "[2.842e-02 1.012e-02 2.930e-05]\n",
      "[1.551e-02 7.912e-03 3.560e-05]\n",
      "[434.8 146.  258. ]\n"
     ]
    }
   ],
   "source": [
    "l = 0\n",
    "for i in range(5):\n",
    "    print( x[l,i,:])\n",
    "    \n",
    "print(y[l] * [10000 , 10000 , 10000000] )"
   ]
  },
  {
   "cell_type": "code",
   "execution_count": 12,
   "metadata": {},
   "outputs": [
    {
     "name": "stdout",
     "output_type": "stream",
     "text": [
      "input name='input' and shape=['batch_size', 5, 3]\n",
      "output name='output' and shape=['batch_size', 3]\n"
     ]
    },
    {
     "data": {
      "text/plain": [
       "[array([[ 1.41864523e-01,  9.82625782e-02, -1.98180415e-02],\n",
       "        [ 9.50355530e-02,  8.52227211e-04,  1.08417058e+00],\n",
       "        [ 1.42855465e-01,  1.03292719e-01, -2.03820020e-02],\n",
       "        [ 1.57542244e-01,  1.05555475e-01, -1.97724216e-02],\n",
       "        [ 1.56160355e-01,  9.13751870e-02, -2.06847154e-02],\n",
       "        [ 1.36558756e-01,  9.89518464e-02, -2.13287733e-02],\n",
       "        [-4.76214886e-02, -1.03371799e-01,  8.10677052e-01],\n",
       "        [ 1.24264866e-01,  7.88527280e-02, -2.22922992e-02],\n",
       "        [ 1.40589118e-01,  9.26078558e-02, -2.00777948e-02],\n",
       "        [ 1.38362527e-01,  9.27267894e-02, -2.16131695e-02]], dtype=float32)]"
      ]
     },
     "execution_count": 12,
     "metadata": {},
     "output_type": "execute_result"
    }
   ],
   "source": [
    "md = rt.InferenceSession(\"/home/manoj/sdn/onos-apps/network_data/models/v1/gru_model_v22.onnx\", providers=rt.get_available_providers())\n",
    "\n",
    "print(\"input name='{}' and shape={}\".format(md.get_inputs()[0].name, md.get_inputs()[0].shape))\n",
    "print(\"output name='{}' and shape={}\".format(md.get_outputs()[0].name, md.get_outputs()[0].shape))\n",
    "\n",
    "input_name = md.get_inputs()[0].name\n",
    "label_name = md.get_outputs()[0].name\n",
    "\n",
    "ot = md.run([label_name], {input_name: x.astype(np.float32) })\n",
    "ot"
   ]
  },
  {
   "cell_type": "code",
   "execution_count": 13,
   "metadata": {},
   "outputs": [
    {
     "data": {
      "text/plain": [
       "array([   1418.64523292,     982.62578249, -198180.41473627])"
      ]
     },
     "execution_count": 13,
     "metadata": {},
     "output_type": "execute_result"
    }
   ],
   "source": [
    "ot[0][l] * [10000 , 10000 , 10000000]"
   ]
  },
  {
   "cell_type": "code",
   "execution_count": 14,
   "metadata": {},
   "outputs": [
    {
     "data": {
      "text/plain": [
       "0.1306626169453595"
      ]
     },
     "execution_count": 14,
     "metadata": {},
     "output_type": "execute_result"
    }
   ],
   "source": [
    "((ot[0][l] - y[l])**2).sum()**0.5"
   ]
  },
  {
   "cell_type": "code",
   "execution_count": null,
   "metadata": {},
   "outputs": [],
   "source": []
  }
 ],
 "metadata": {
  "kernelspec": {
   "display_name": "Python 3.10.6 64-bit",
   "language": "python",
   "name": "python3"
  },
  "language_info": {
   "codemirror_mode": {
    "name": "ipython",
    "version": 3
   },
   "file_extension": ".py",
   "mimetype": "text/x-python",
   "name": "python",
   "nbconvert_exporter": "python",
   "pygments_lexer": "ipython3",
   "version": "3.10.6"
  },
  "orig_nbformat": 4,
  "vscode": {
   "interpreter": {
    "hash": "916dbcbb3f70747c44a77c7bcd40155683ae19c65e1c03b4aa3499c5328201f1"
   }
  }
 },
 "nbformat": 4,
 "nbformat_minor": 2
}
